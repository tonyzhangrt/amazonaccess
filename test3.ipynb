{
 "cells": [
  {
   "cell_type": "code",
   "execution_count": null,
   "metadata": {
    "collapsed": false
   },
   "outputs": [],
   "source": [
    "import sys\n",
    "import pandas as pd\n",
    "import numpy as np\n",
    "import scipy\n",
    "import xgboost as xgb\n",
    "import matplotlib.pyplot as plt\n",
    "from sklearn import preprocessing\n",
    "\n",
    "sys.path.append('./src')\n",
    "\n",
    "\n",
    "import myclassify\n",
    "reload(myclassify)\n",
    "from myclassify import MyFeatureSet\n",
    "from myclassify import MyCountTable\n",
    "from myclassify import merge_two_cat_columns\n",
    "from myclassify import np_combine_rare\n",
    "\n",
    "%matplotlib inline \n",
    "# to make reproducible results\n",
    "SEED = 1234"
   ]
  },
  {
   "cell_type": "code",
   "execution_count": null,
   "metadata": {
    "collapsed": true
   },
   "outputs": [],
   "source": [
    "df_train = pd.read_csv('./train.csv')\n",
    "df_test = pd.read_csv('./test.csv')\n",
    "\n",
    "ytrain = df_train['response'].values\n",
    "idtest = df_test['id'].values"
   ]
  },
  {
   "cell_type": "code",
   "execution_count": null,
   "metadata": {
    "collapsed": false
   },
   "outputs": [],
   "source": [
    "reload(myclassify)\n",
    "\n",
    "orig_fset = myclassify.df_to_fset([df_train, df_test], drop_list = ['id'])"
   ]
  },
  {
   "cell_type": "code",
   "execution_count": null,
   "metadata": {
    "collapsed": false
   },
   "outputs": [],
   "source": [
    "reload(myclassify)\n",
    "\n",
    "\n",
    "orig_fset.show_basic_statics()"
   ]
  },
  {
   "cell_type": "code",
   "execution_count": null,
   "metadata": {
    "collapsed": false
   },
   "outputs": [],
   "source": [
    "# try running rf on orig_fset\n",
    "\n",
    "reload(myclassify)\n",
    "\n",
    "\n",
    "\n",
    "myrf_params = {'n_estimators':100,'max_features':0.4,'max_depth':11,'min_samples_split':3,\n",
    "                     'n_jobs':-1,'random_state':SEED,'criterion':'entropy', 'class_weight':'balanced_subsample'}\n",
    "\n",
    "myrf = myclassify.MyRandomForest(myrf_params)\n",
    "\n",
    "# myxgb = myclassify.MyXGBoost(myxgb_params)\n",
    "\n",
    "myrf_cv_score = myclassify.strat_cv_score(myrf, orig_fset.Xtrain, ytrain)\n",
    "\n",
    "print np.mean(myrf_cv_score), np.std(myrf_cv_score)\n",
    "\n",
    "myrf.fit(orig_fset.Xtrain, ytrain)\n",
    "\n",
    "myrf.list_feature_importance(orig_fset.fname_list)\n",
    "\n",
    "myrf.plt_feature_importance(orig_fset.fname_list)\n"
   ]
  },
  {
   "cell_type": "code",
   "execution_count": null,
   "metadata": {
    "collapsed": false
   },
   "outputs": [],
   "source": [
    "# use xgb on orig_fset\n",
    "\n",
    "myxgb_params = {'objective': 'binary:logistic', 'subsample': .9, 'nthread': 4, 'seed': SEED, 'num_round':500,\n",
    "                   'learning_rate': 0.02, 'n_estimators': 1000, 'colsample_bylevel':0.7, \n",
    "                   'max_depth': 6,'gamma': 0.6, 'colsample_bytree':0.7, 'min_child_weight':0.,\n",
    "                      'lambda': 1.0, 'alpha': 0, 'eval_metric':'logloss'}\n",
    "\n",
    "myxgb = myclassify.MyXGBoost(myxgb_params)\n",
    "\n",
    "myxgb_cv_score = myclassify.strat_cv_score(myxgb, orig_fset.Xtrain, ytrain)\n",
    "\n",
    "print np.mean(myxgb_cv_score), np.std(myxgb_cv_score)\n",
    "\n",
    "myxgb.fit(orig_fset.Xtrain, ytrain)\n",
    "\n",
    "myxgb.list_feature_importance(orig_fset.fname_list)\n",
    "\n",
    "myxgb.plt_feature_importance(orig_fset.fname_list)"
   ]
  },
  {
   "cell_type": "code",
   "execution_count": null,
   "metadata": {
    "collapsed": false
   },
   "outputs": [],
   "source": [
    "# merge var20, var11, var17, var9, var10 and do label encoding on var12 and combine rare\n",
    "reload(myclassify)\n",
    "num_list = ['var18', 'var12']\n",
    "merge_list = ['le_var9', 'var10', 'le_var11', 'le_var17', 'le_var20']\n",
    "\n",
    "integer_list = [col for col in orig_fset.feature_names() \\\n",
    "                    if issubclass(orig_fset.ftype_list[orig_fset.fname_list.index(col)], np.integer)]\n",
    "relabel_list = [col for col in orig_fset.feature_names() if col not in num_list \\\n",
    "                      and not issubclass(orig_fset.ftype_list[orig_fset.fname_list.index(col)], np.integer)]\n",
    "\n",
    "%time cat_int_fset = orig_fset[integer_list]\n",
    "\n",
    "%time cat_float_fset = orig_fset[relabel_list].label_encode(relabel_list)\n",
    "\n",
    "%time num_fset = orig_fset[num_list]\n",
    "\n",
    "merge_fset = cat_int_fset + cat_float_fset\n",
    "\n",
    "merge_fset['merge_var9_10_11_17_20'] = merge_fset.merge_multiple_cat_columns(merge_list)\n",
    "\n",
    "merge_fset = merge_fset.drop(merge_list)\n",
    "%time merge_fset = merge_fset + orig_fset['var18'] + orig_fset['var12'].label_encode(['var12']).combine_rare()\n",
    "\n",
    "print merge_fset.fname_list"
   ]
  },
  {
   "cell_type": "code",
   "execution_count": null,
   "metadata": {
    "collapsed": false
   },
   "outputs": [],
   "source": [
    "myxgb_params = {'objective': 'binary:logistic', 'subsample': .9, 'nthread': 4, 'seed': SEED, 'num_round':500,\n",
    "                   'learning_rate': 0.02, 'n_estimators': 1000, 'colsample_bylevel':0.7, \n",
    "                   'max_depth': 6,'gamma': 0.6, 'colsample_bytree':0.7, 'min_child_weight':0.,\n",
    "                      'lambda': 1.0, 'alpha': 0, 'eval_metric':'logloss'}\n",
    "\n",
    "myxgb = myclassify.MyXGBoost(myxgb_params)\n",
    "\n",
    "myxgb_cv_score = myclassify.strat_cv_score(myxgb, merge_fset.Xtrain, ytrain)\n",
    "\n",
    "print np.mean(myxgb_cv_score), np.std(myxgb_cv_score)\n",
    "\n",
    "myxgb.fit(merge_fset.Xtrain, ytrain)\n",
    "\n",
    "myxgb.list_feature_importance(merge_fset.fname_list)\n",
    "\n",
    "myxgb.plt_feature_importance(merge_fset.fname_list)"
   ]
  },
  {
   "cell_type": "code",
   "execution_count": null,
   "metadata": {
    "collapsed": true
   },
   "outputs": [],
   "source": [
    "myxgb_ypred = myxgb.predict_proba(merge_fset.Xtest)\n",
    "\n",
    "submission = pd.DataFrame({\"id\":idtest, \"response\":myxgb_ypred})\n",
    "submission = submission[['id', 'response']]\n",
    "submission.to_csv(\"xgb_submission.csv\", index=False)"
   ]
  }
 ],
 "metadata": {
  "kernelspec": {
   "display_name": "Python 2",
   "language": "python",
   "name": "python2"
  },
  "language_info": {
   "codemirror_mode": {
    "name": "ipython",
    "version": 2
   },
   "file_extension": ".py",
   "mimetype": "text/x-python",
   "name": "python",
   "nbconvert_exporter": "python",
   "pygments_lexer": "ipython2",
   "version": "2.7.11"
  }
 },
 "nbformat": 4,
 "nbformat_minor": 0
}
