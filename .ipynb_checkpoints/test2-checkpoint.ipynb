{
 "cells": [
  {
   "cell_type": "code",
   "execution_count": 33,
   "metadata": {
    "collapsed": true
   },
   "outputs": [],
   "source": [
    "import sys\n",
    "import pandas as pd\n",
    "import numpy as np\n",
    "import scipy\n",
    "from sklearn import preprocessing\n",
    "\n",
    "sys.path.append('./src')\n",
    "\n",
    "\n",
    "import myclassify\n",
    "reload(myclassify)\n",
    "from myclassify import MyFeatureSet\n",
    "from myclassify import MyCountTable\n",
    "from myclassify import merge_two_cat_columns\n",
    "from myclassify import np_combine_rare\n",
    "\n",
    "# to make reproducible results\n",
    "SEED = 1234\n",
    "\n",
    "# generate a bunch of feature sets\n",
    "# feature set consists:\n",
    "# Xtrain, train part of feature set\n",
    "# Xtest, test part of feature set\n",
    "# fname_list, feature names\n",
    "# find_list, feature indices"
   ]
  },
  {
   "cell_type": "code",
   "execution_count": 39,
   "metadata": {
    "collapsed": false
   },
   "outputs": [
    {
     "name": "stdout",
     "output_type": "stream",
     "text": [
      "CPU times: user 159 ms, sys: 4 ms, total: 163 ms\n",
      "Wall time: 163 ms\n",
      "[u'RESOURCE', u'MGR_ID', u'ROLE_DEPTNAME', u'ROLE_TITLE', u'ROLE_FAMILY_DESC', u'ROLE_FAMILY', 'ROLE_ROLLUP_1', 'ROLE_ROLLUP_2']\n"
     ]
    }
   ],
   "source": [
    "reload(myclassify)\n",
    "\n",
    "# original feature set with' ROLE_ID' deleted, will be used to generated numerical features\n",
    "ORIG_FSET_FILE = './cache/orig_fset.pickle'\n",
    "class OrigFeatureSet(MyFeatureSet):\n",
    "    def generate_feature_set(self, file_path = None):\n",
    "        df_train = pd.read_csv('./train.csv')\n",
    "        df_test = pd.read_csv('./test.csv')\n",
    "        df_all = pd.concat([df_train.drop([u'ACTION'], axis = 1),df_test.drop([u'id'], axis = 1)], ignore_index=True)\n",
    "        col_keep = [u'RESOURCE', u'MGR_ID', u'ROLE_DEPTNAME', \n",
    "                    u'ROLE_TITLE', u'ROLE_FAMILY_DESC', u'ROLE_FAMILY', 'ROLE_ROLLUP_1', 'ROLE_ROLLUP_2']\n",
    "        self.fname_list = col_keep\n",
    "        self.find_list = range(len(col_keep)+1)\n",
    "        df_all = df_all[col_keep]        \n",
    "        df_train = df_all[:][df_all.index<len(df_train.index)]\n",
    "        df_test = df_all[:][df_all.index>=len(df_train.index)]\n",
    "        \n",
    "        self.Xtrain = df_train.values\n",
    "        self.Xtest = df_test.values\n",
    "        \n",
    "        if file_path:\n",
    "            self.save_feature_set(file_path)\n",
    "\n",
    "        \n",
    "orig_fset = OrigFeatureSet()\n",
    "%time orig_fset.generate_feature_set(ORIG_FSET_FILE)\n",
    "print orig_fset.fname_list"
   ]
  },
  {
   "cell_type": "code",
   "execution_count": 41,
   "metadata": {
    "collapsed": false
   },
   "outputs": [
    {
     "name": "stdout",
     "output_type": "stream",
     "text": [
      "CPU times: user 122 ms, sys: 7.96 ms, total: 130 ms\n",
      "Wall time: 129 ms\n",
      "[u'RESOURCE', u'MGR_ID', u'ROLE_DEPTNAME', u'ROLE_TITLE', u'ROLE_FAMILY_DESC', u'ROLE_FAMILY']\n"
     ]
    }
   ],
   "source": [
    "reload(myclassify)\n",
    "\n",
    "# original feature set with' ROLE_ID', 'ROLE_ROLLUP_1', 'ROLE_ROLLUP_2'deleted\n",
    "ORIGR_FSET_FILE = './cache/origr_fset.pickle'\n",
    "class OrigRFeatureSet(MyFeatureSet):\n",
    "    def generate_feature_set(self, file_path = None):\n",
    "        df_train = pd.read_csv('./train.csv')\n",
    "        df_test = pd.read_csv('./test.csv')\n",
    "        df_all = pd.concat([df_train.drop([u'ACTION'], axis = 1),df_test.drop([u'id'], axis = 1)], ignore_index=True)\n",
    "        col_keep = [u'RESOURCE', u'MGR_ID', u'ROLE_DEPTNAME', \n",
    "                    u'ROLE_TITLE', u'ROLE_FAMILY_DESC', u'ROLE_FAMILY']\n",
    "        self.fname_list = col_keep\n",
    "        self.find_list = range(len(col_keep)+1)\n",
    "        df_all = df_all[col_keep]\n",
    "        \n",
    "        df_train = df_all[:][df_all.index<len(df_train.index)]\n",
    "        df_test = df_all[:][df_all.index>=len(df_train.index)]\n",
    "        \n",
    "        self.Xtrain = df_train.values\n",
    "        self.Xtest = df_test.values\n",
    "        \n",
    "        if file_path:\n",
    "            self.save_feature_set(file_path)\n",
    "\n",
    "        \n",
    "origr_fset = OrigRFeatureSet()\n",
    "%time origr_fset.generate_feature_set(ORIGR_FSET_FILE)\n",
    "print origr_fset.fname_list"
   ]
  },
  {
   "cell_type": "code",
   "execution_count": 42,
   "metadata": {
    "collapsed": false
   },
   "outputs": [
    {
     "name": "stdout",
     "output_type": "stream",
     "text": [
      "CPU times: user 420 ms, sys: 4 ms, total: 424 ms\n",
      "Wall time: 424 ms\n",
      "[u'CR_RESOURCE', u'CR_MGR_ID', u'CR_ROLE_DEPTNAME', u'CR_ROLE_TITLE', u'CR_ROLE_FAMILY_DESC', u'CR_ROLE_FAMILY']\n"
     ]
    }
   ],
   "source": [
    "reload(myclassify)\n",
    "\n",
    "# reduced original feature set\n",
    "# original feature set with' ROLE_ID', 'ROLE_ROLLUP_1', 'ROLE_ROLLUP_2'deleted and rare events combined\n",
    "CR_ORIGR_FSET_FILE = './cache/crorigr_fset.pickle'\n",
    "class CROrigRFeatureSet(MyFeatureSet):\n",
    "    def generate_feature_set(self, file_path = None):\n",
    "        origr_fset = OrigRFeatureSet()\n",
    "        origr_fset.load_feature_set(ORIGR_FSET_FILE)\n",
    "        self.Xtrain = origr_fset.Xtrain\n",
    "        self.Xtest = origr_fset.Xtest\n",
    "        np_combine_rare(self.Xtrain, self.Xtest)\n",
    "        self.fname_list = [u'CR_'+fname for fname in origr_fset.fname_list]\n",
    "        self.find_list = range(len(self.fname_list)+1)\n",
    "        \n",
    "        if file_path:\n",
    "            self.save_feature_set(file_path)\n",
    "        \n",
    "crorigr_fset = CROrigRFeatureSet()\n",
    "%time crorigr_fset.generate_feature_set(CR_ORIGR_FSET_FILE)\n",
    "print crorigr_fset.fname_list"
   ]
  },
  {
   "cell_type": "code",
   "execution_count": 43,
   "metadata": {
    "collapsed": false
   },
   "outputs": [
    {
     "name": "stdout",
     "output_type": "stream",
     "text": [
      "<class 'scipy.sparse.csr.csr_matrix'>\n",
      "CPU times: user 154 ms, sys: 12 ms, total: 166 ms\n",
      "Wall time: 166 ms\n",
      "[u'OH_CR_RESOURCE', u'OH_CR_MGR_ID', u'OH_CR_ROLE_DEPTNAME', u'OH_CR_ROLE_TITLE', u'OH_CR_ROLE_FAMILY_DESC', u'OH_CR_ROLE_FAMILY']\n"
     ]
    }
   ],
   "source": [
    "reload(myclassify)\n",
    "\n",
    "# reduced original feature set with one hot encoding\n",
    "OHCR_ORIGR_FSET_FILE = './cache/ohcrorigr_fset.pickle'\n",
    "class OHCROrigRFeatureSet(MyFeatureSet):\n",
    "    def generate_feature_set(self, file_path = None):\n",
    "        crorigr_fset = CROrigRFeatureSet()\n",
    "        crorigr_fset.load_feature_set(CR_ORIGR_FSET_FILE)\n",
    "        self.Xtrain = crorigr_fset.Xtrain\n",
    "        self.Xtest = crorigr_fset.Xtest\n",
    "        # label encoding\n",
    "        lb_encoder = preprocessing.LabelEncoder()\n",
    "        n_orf = len(origr_fset.fname_list)\n",
    "        for i in xrange(n_orf):\n",
    "            lb_encoder.fit(np.hstack((self.Xtrain[:, i], self.Xtest[:, i])))\n",
    "            self.Xtrain[:, i] = lb_encoder.transform(self.Xtrain[:,i])  \n",
    "            self.Xtest[:, i] = lb_encoder.transform(self.Xtest[:, i])\n",
    "        # one hot encoding\n",
    "        oh_encoder = preprocessing.OneHotEncoder()\n",
    "        oh_encoder.fit(np.vstack((self.Xtrain, self.Xtest)))\n",
    "        self.Xtrain = oh_encoder.transform(self.Xtrain).tocsr()  \n",
    "        self.Xtest = oh_encoder.transform(self.Xtest).tocsr()\n",
    "        \n",
    "        print type(self.Xtrain)\n",
    "        \n",
    "        self.fname_list = [u'OH_'+fname for fname in crorigr_fset.fname_list]\n",
    "        self.find_list = list(oh_encoder.feature_indices_)\n",
    "        \n",
    "        if file_path:\n",
    "            self.save_feature_set(file_path)\n",
    "        \n",
    "ohcrorigr_fset = OHCROrigRFeatureSet()\n",
    "%time ohcrorigr_fset.generate_feature_set(OHCR_ORIGR_FSET_FILE)\n",
    "print ohcrorigr_fset.fname_list\n",
    "# print ohcrorigr_fset.find_list"
   ]
  },
  {
   "cell_type": "code",
   "execution_count": 45,
   "metadata": {
    "collapsed": false
   },
   "outputs": [
    {
     "name": "stdout",
     "output_type": "stream",
     "text": [
      "CPU times: user 2.73 s, sys: 32 ms, total: 2.77 s\n",
      "Wall time: 3 s\n",
      "[u'RESOURCE_AND_MGR_ID', u'RESOURCE_AND_ROLE_DEPTNAME', u'RESOURCE_AND_ROLE_TITLE', u'RESOURCE_AND_ROLE_FAMILY_DESC', u'RESOURCE_AND_ROLE_FAMILY', u'RESOURCE_AND_ROLE_ROLLUP_1', u'RESOURCE_AND_ROLE_ROLLUP_2', u'MGR_ID_AND_ROLE_DEPTNAME', u'MGR_ID_AND_ROLE_TITLE', u'MGR_ID_AND_ROLE_FAMILY_DESC', u'MGR_ID_AND_ROLE_FAMILY', u'MGR_ID_AND_ROLE_ROLLUP_1', u'MGR_ID_AND_ROLE_ROLLUP_2', u'ROLE_DEPTNAME_AND_ROLE_TITLE', u'ROLE_DEPTNAME_AND_ROLE_FAMILY_DESC', u'ROLE_DEPTNAME_AND_ROLE_FAMILY', u'ROLE_DEPTNAME_AND_ROLE_ROLLUP_1', u'ROLE_DEPTNAME_AND_ROLE_ROLLUP_2', u'ROLE_TITLE_AND_ROLE_FAMILY_DESC', u'ROLE_TITLE_AND_ROLE_ROLLUP_1', u'ROLE_TITLE_AND_ROLE_ROLLUP_2', u'ROLE_FAMILY_DESC_AND_ROLE_FAMILY', u'ROLE_FAMILY_DESC_AND_ROLE_ROLLUP_1', u'ROLE_FAMILY_DESC_AND_ROLE_ROLLUP_2', u'ROLE_FAMILY_AND_ROLE_ROLLUP_1', u'ROLE_FAMILY_AND_ROLE_ROLLUP_2', u'ROLE_ROLLUP_1_AND_ROLE_ROLLUP_2']\n",
      "(32769, 27)\n"
     ]
    }
   ],
   "source": [
    "reload(myclassify)\n",
    "\n",
    "# tuple feature set generated from orig_fset\n",
    "ORIG_TUPLE_FSET_FILE = './cache/orig_tuple_fset.pickle'\n",
    "class OrigTupleFeatureSet(MyFeatureSet):\n",
    "    def generate_feature_set(self, file_path = None):\n",
    "        orig_fset = OrigFeatureSet()\n",
    "        orig_fset.generate_feature_set(ORIG_FSET_FILE)\n",
    "        \n",
    "        n_of = len(orig_fset.fname_list)\n",
    "        n_train = orig_fset.Xtrain.shape[0]\n",
    "        n_test = orig_fset.Xtest.shape[0]\n",
    "        \n",
    "        for i in xrange(n_of):\n",
    "            i_ind = orig_fset.find_list[i]\n",
    "            i_name = orig_fset.fname_list[i]\n",
    "            i_data = np.hstack((orig_fset.Xtrain[:, i_ind], orig_fset.Xtest[:, i_ind]))\n",
    "            unique_i = np.unique(i_data).shape[0]\n",
    "            for j in xrange(i+1, n_of):\n",
    "                j_ind = orig_fset.find_list[j]\n",
    "                j_name = orig_fset.fname_list[j]\n",
    "                j_data = np.hstack((orig_fset.Xtrain[:, j_ind], orig_fset.Xtest[:, j_ind]))\n",
    "                unique_j = np.unique(j_data).shape[0]\n",
    "                \n",
    "#                 myclassify.fset_check_two_columns(orig_fset, i, j)\n",
    "                \n",
    "                ij_train, ij_test = myclassify.fset_merge_two_cat_columns(orig_fset, (i,j))\n",
    "                ij_data = np.hstack((ij_train, ij_test))\n",
    "                unique_ij = np.unique(ij_data).shape[0]\n",
    "                \n",
    "                if unique_ij > unique_i and unique_ij > unique_j: \n",
    "                    if len(self.fname_list) == 0:\n",
    "                        self.Xtrain = ij_train.reshape(n_train, 1)\n",
    "                        self.Xtest = ij_test.reshape(n_test, 1)\n",
    "                    else:\n",
    "                        self.Xtrain = np.hstack((self.Xtrain, ij_train.reshape(n_train, 1)))\n",
    "                        self.Xtest = np.hstack((self.Xtest, ij_test.reshape(n_test, 1)))\n",
    "                    ij_name = i_name + u'_AND_' + j_name\n",
    "                    self.fname_list.append(ij_name)\n",
    "                           \n",
    "        self.find_list = range(len(self.fname_list)+1)\n",
    "        \n",
    "        if file_path:\n",
    "            self.save_feature_set(file_path)\n",
    "\n",
    "        \n",
    "orig_tuple_fset = OrigTupleFeatureSet()\n",
    "%time orig_tuple_fset.generate_feature_set(ORIG_TUPLE_FSET_FILE)\n",
    "print orig_tuple_fset.fname_list\n",
    "print orig_tuple_fset.Xtrain.shape"
   ]
  },
  {
   "cell_type": "code",
   "execution_count": 46,
   "metadata": {
    "collapsed": false
   },
   "outputs": [
    {
     "name": "stdout",
     "output_type": "stream",
     "text": [
      "CPU times: user 15.8 s, sys: 19.9 ms, total: 15.8 s\n",
      "Wall time: 15.8 s\n",
      "[u'CR_RESOURCE_AND_MGR_ID', u'CR_RESOURCE_AND_ROLE_DEPTNAME', u'CR_RESOURCE_AND_ROLE_TITLE', u'CR_RESOURCE_AND_ROLE_FAMILY_DESC', u'CR_RESOURCE_AND_ROLE_FAMILY', u'CR_RESOURCE_AND_ROLE_ROLLUP_1', u'CR_RESOURCE_AND_ROLE_ROLLUP_2', u'CR_MGR_ID_AND_ROLE_DEPTNAME', u'CR_MGR_ID_AND_ROLE_TITLE', u'CR_MGR_ID_AND_ROLE_FAMILY_DESC', u'CR_MGR_ID_AND_ROLE_FAMILY', u'CR_MGR_ID_AND_ROLE_ROLLUP_1', u'CR_MGR_ID_AND_ROLE_ROLLUP_2', u'CR_ROLE_DEPTNAME_AND_ROLE_TITLE', u'CR_ROLE_DEPTNAME_AND_ROLE_FAMILY_DESC', u'CR_ROLE_DEPTNAME_AND_ROLE_FAMILY', u'CR_ROLE_DEPTNAME_AND_ROLE_ROLLUP_1', u'CR_ROLE_DEPTNAME_AND_ROLE_ROLLUP_2', u'CR_ROLE_TITLE_AND_ROLE_FAMILY_DESC', u'CR_ROLE_TITLE_AND_ROLE_ROLLUP_1', u'CR_ROLE_TITLE_AND_ROLE_ROLLUP_2', u'CR_ROLE_FAMILY_DESC_AND_ROLE_FAMILY', u'CR_ROLE_FAMILY_DESC_AND_ROLE_ROLLUP_1', u'CR_ROLE_FAMILY_DESC_AND_ROLE_ROLLUP_2', u'CR_ROLE_FAMILY_AND_ROLE_ROLLUP_1', u'CR_ROLE_FAMILY_AND_ROLE_ROLLUP_2', u'CR_ROLE_ROLLUP_1_AND_ROLE_ROLLUP_2']\n"
     ]
    }
   ],
   "source": [
    "reload(myclassify)\n",
    "\n",
    "# tuple feature set generated from orig_fset with rare events combined\n",
    "CR_ORIG_TUPLE_FSET_FILE = './cache/crorig_tuple_fset.pickle'\n",
    "class CROrigTupleFeatureSet(MyFeatureSet):\n",
    "    def generate_feature_set(self, file_path = None):\n",
    "        orig_tuple_fset = OrigTupleFeatureSet()\n",
    "        orig_tuple_fset.load_feature_set(ORIG_TUPLE_FSET_FILE)\n",
    "        self.Xtrain = orig_tuple_fset.Xtrain\n",
    "        self.Xtest = orig_tuple_fset.Xtest\n",
    "        np_combine_rare(self.Xtrain, self.Xtest)\n",
    "        self.fname_list = [u'CR_'+fname for fname in orig_tuple_fset.fname_list]\n",
    "        self.find_list = range(len(self.fname_list)+1)\n",
    "        \n",
    "        if file_path:\n",
    "            self.save_feature_set(file_path)\n",
    "        \n",
    "crorig_tuple_fset = CROrigTupleFeatureSet()\n",
    "%time crorig_tuple_fset.generate_feature_set(CR_ORIG_TUPLE_FSET_FILE)\n",
    "print crorig_tuple_fset.fname_list"
   ]
  },
  {
   "cell_type": "code",
   "execution_count": 47,
   "metadata": {
    "collapsed": false
   },
   "outputs": [
    {
     "name": "stdout",
     "output_type": "stream",
     "text": [
      "<class 'scipy.sparse.csr.csr_matrix'>\n",
      "CPU times: user 585 ms, sys: 100 ms, total: 685 ms\n",
      "Wall time: 696 ms\n",
      "[u'OH_CR_RESOURCE_AND_MGR_ID', u'OH_CR_RESOURCE_AND_ROLE_DEPTNAME', u'OH_CR_RESOURCE_AND_ROLE_TITLE', u'OH_CR_RESOURCE_AND_ROLE_FAMILY_DESC', u'OH_CR_RESOURCE_AND_ROLE_FAMILY', u'OH_CR_RESOURCE_AND_ROLE_ROLLUP_1', u'OH_CR_RESOURCE_AND_ROLE_ROLLUP_2', u'OH_CR_MGR_ID_AND_ROLE_DEPTNAME', u'OH_CR_MGR_ID_AND_ROLE_TITLE', u'OH_CR_MGR_ID_AND_ROLE_FAMILY_DESC', u'OH_CR_MGR_ID_AND_ROLE_FAMILY', u'OH_CR_MGR_ID_AND_ROLE_ROLLUP_1', u'OH_CR_MGR_ID_AND_ROLE_ROLLUP_2', u'OH_CR_ROLE_DEPTNAME_AND_ROLE_TITLE', u'OH_CR_ROLE_DEPTNAME_AND_ROLE_FAMILY_DESC', u'OH_CR_ROLE_DEPTNAME_AND_ROLE_FAMILY', u'OH_CR_ROLE_DEPTNAME_AND_ROLE_ROLLUP_1', u'OH_CR_ROLE_DEPTNAME_AND_ROLE_ROLLUP_2', u'OH_CR_ROLE_TITLE_AND_ROLE_FAMILY_DESC', u'OH_CR_ROLE_TITLE_AND_ROLE_ROLLUP_1', u'OH_CR_ROLE_TITLE_AND_ROLE_ROLLUP_2', u'OH_CR_ROLE_FAMILY_DESC_AND_ROLE_FAMILY', u'OH_CR_ROLE_FAMILY_DESC_AND_ROLE_ROLLUP_1', u'OH_CR_ROLE_FAMILY_DESC_AND_ROLE_ROLLUP_2', u'OH_CR_ROLE_FAMILY_AND_ROLE_ROLLUP_1', u'OH_CR_ROLE_FAMILY_AND_ROLE_ROLLUP_2', u'OH_CR_ROLE_ROLLUP_1_AND_ROLE_ROLLUP_2']\n"
     ]
    }
   ],
   "source": [
    "reload(myclassify)\n",
    "\n",
    "# reduced original feature set with one hot encoding\n",
    "OHCR_ORIG_TUPLE_FSET_FILE = './cache/ohcrorig_tuple_fset.pickle'\n",
    "class OHCROrigTupleFeatureSet(MyFeatureSet):\n",
    "    def generate_feature_set(self, file_path = None):\n",
    "        crorig_tuple_fset = CROrigTupleFeatureSet()\n",
    "        crorig_tuple_fset.load_feature_set(CR_ORIG_TUPLE_FSET_FILE)\n",
    "        self.Xtrain = crorig_tuple_fset.Xtrain\n",
    "        self.Xtest = crorig_tuple_fset.Xtest\n",
    "        # label encoding\n",
    "        lb_encoder = preprocessing.LabelEncoder()\n",
    "        n_orf = len(origr_fset.fname_list)\n",
    "        for i in xrange(n_orf):\n",
    "            lb_encoder.fit(np.hstack((self.Xtrain[:, i], self.Xtest[:, i])))\n",
    "            self.Xtrain[:, i] = lb_encoder.transform(self.Xtrain[:,i])  \n",
    "            self.Xtest[:, i] = lb_encoder.transform(self.Xtest[:, i])\n",
    "        # one hot encoding\n",
    "        oh_encoder = preprocessing.OneHotEncoder()\n",
    "        oh_encoder.fit(np.vstack((self.Xtrain, self.Xtest)))\n",
    "        self.Xtrain = oh_encoder.transform(self.Xtrain).tocsr()  \n",
    "        self.Xtest = oh_encoder.transform(self.Xtest).tocsr()\n",
    "        \n",
    "        print type(self.Xtrain)\n",
    "        \n",
    "        self.fname_list = [u'OH_'+fname for fname in crorig_tuple_fset.fname_list]\n",
    "        self.find_list = list(oh_encoder.feature_indices_)\n",
    "        \n",
    "        if file_path:\n",
    "            self.save_feature_set(file_path)\n",
    "        \n",
    "ohcrorig_tuple_fset = OHCROrigTupleFeatureSet()\n",
    "%time ohcrorig_tuple_fset.generate_feature_set(OHCR_ORIG_TUPLE_FSET_FILE)\n",
    "print ohcrorig_tuple_fset.fname_list\n",
    "# print ohcrorig_tuple_fset.find_list"
   ]
  },
  {
   "cell_type": "code",
   "execution_count": 48,
   "metadata": {
    "collapsed": false
   },
   "outputs": [
    {
     "name": "stdout",
     "output_type": "stream",
     "text": [
      "Loading count table file failed: file not found.\n",
      "CPU times: user 30 s, sys: 96 ms, total: 30.1 s\n",
      "Wall time: 30.1 s\n",
      "CPU times: user 36.6 s, sys: 92 ms, total: 36.7 s\n",
      "Wall time: 36.7 s\n"
     ]
    }
   ],
   "source": [
    "# generate count tables for origr_fset and one degree count table for orig\n",
    "# one cout table['feature_name'][key] = appaerance of key in 'feature_name'\n",
    "# two cout table[('f_name1', 'f_name2'][key1][key2] = appaerance of (key1, key2) \n",
    "# two cout table[('f_name1', 'f_name2'][key1]['total'] = total number of unique key2 appear with key1\n",
    "# to generate counting for feature i feature set:\n",
    "# use count_table.fset_one_degree_counts(base_fset, i, COUNT_TABLE_FILE)\n",
    "# to generate percentage of (key i , key j) apperance in all (key i, 'feature j') \n",
    "# use count_table.fset_one_degree_counts(base_fset, i, j, 'per',COUNT_TABLE_FILE)\n",
    "# to generate unique number of (key i , key j) in all (key i, 'feature j') \n",
    "# use count_table.fset_one_degree_counts(base_fset, i, j, 'num',COUNT_TABLE_FILE)\n",
    "\n",
    "reload(myclassify)\n",
    "\n",
    "COUNT_TABLE_FILE = './cache/count_tb.pickle'\n",
    "ORIG_FSET_FILE = './cache/orig_fset.pickle'\n",
    "ORIG_TUPLE_FSET_FILE = './cache/orig_tuple_fset.pickle'\n",
    "\n",
    "count_table = MyCountTable()\n",
    "count_table.load_count_tables(COUNT_TABLE_FILE)\n",
    "\n",
    "orig_fset = OrigFeatureSet()\n",
    "orig_fset.load_feature_set(ORIG_FSET_FILE)\n",
    "\n",
    "orig_tuple_fset = OrigTupleFeatureSet()\n",
    "orig_tuple_fset.load_feature_set(ORIG_TUPLE_FSET_FILE)\n",
    "\n",
    "%time count_table.fset_generate_count_tables(orig_fset, 'both', [], COUNT_TABLE_FILE)\n",
    "\n",
    "%time count_table.fset_generate_count_tables(orig_tuple_fset, 'one', [], COUNT_TABLE_FILE)"
   ]
  },
  {
   "cell_type": "code",
   "execution_count": 49,
   "metadata": {
    "collapsed": false
   },
   "outputs": [
    {
     "name": "stdout",
     "output_type": "stream",
     "text": [
      "CPU times: user 1.6 s, sys: 12 ms, total: 1.61 s\n",
      "Wall time: 1.61 s\n",
      "[u'CNT_RESOURCE_LS', u'CNT_MGR_ID_LS', u'CNT_ROLE_DEPTNAME_LS', u'CNT_ROLE_TITLE_LS', u'CNT_ROLE_FAMILY_DESC_LS', u'CNT_ROLE_FAMILY_LS', u'CNT_ROLE_ROLLUP_1_LS', u'CNT_ROLE_ROLLUP_2_LS']\n"
     ]
    }
   ],
   "source": [
    "reload(myclassify)\n",
    "\n",
    "# count of appearance of orig_fset\n",
    "ORIG_CNT_LS_FSET_FILE = './cache/origc_ls_fset.pickle'\n",
    "class OrigCntLSFeatureSet(MyFeatureSet):\n",
    "    def generate_feature_set(self, file_path = None):\n",
    "        orig_fset = OrigFeatureSet()\n",
    "        orig_fset.load_feature_set(ORIG_FSET_FILE)\n",
    "        n_of = len(orig_fset.fname_list)\n",
    "        n_train = orig_fset.Xtrain.shape[0]\n",
    "        n_test = orig_fset.Xtest.shape[0]\n",
    "        self.Xtrain = np.zeros((n_train, n_of), float)\n",
    "        self.Xtest = np.zeros((n_test, n_of), float)\n",
    "        for i in xrange(n_of):\n",
    "            self.Xtrain[:, i], self.Xtest[:, i] = \\\n",
    "                count_table.fset_one_degree_counts(orig_fset, i, COUNT_TABLE_FILE)\n",
    "        myclassify.np_numeric_transform(self.Xtrain, self.Xtest, [], 'log', True)\n",
    "        self.fname_list = [u'CNT_'+fname+u'_LS' for fname in orig_fset.fname_list]\n",
    "        self.find_list = range(len(self.fname_list)+1)\n",
    "        \n",
    "        if file_path:\n",
    "            self.save_feature_set(file_path)\n",
    "        \n",
    "origc_ls_fset = OrigCntLSFeatureSet()\n",
    "%time origc_ls_fset.generate_feature_set(ORIG_CNT_LS_FSET_FILE)\n",
    "print origc_ls_fset.fname_list"
   ]
  },
  {
   "cell_type": "code",
   "execution_count": 50,
   "metadata": {
    "collapsed": false
   },
   "outputs": [
    {
     "name": "stdout",
     "output_type": "stream",
     "text": [
      "CPU times: user 5.29 s, sys: 24 ms, total: 5.31 s\n",
      "Wall time: 5.3 s\n",
      "[u'CNT_RESOURCE_AND_MGR_ID_LS', u'CNT_RESOURCE_AND_ROLE_DEPTNAME_LS', u'CNT_RESOURCE_AND_ROLE_TITLE_LS', u'CNT_RESOURCE_AND_ROLE_FAMILY_DESC_LS', u'CNT_RESOURCE_AND_ROLE_FAMILY_LS', u'CNT_RESOURCE_AND_ROLE_ROLLUP_1_LS', u'CNT_RESOURCE_AND_ROLE_ROLLUP_2_LS', u'CNT_MGR_ID_AND_ROLE_DEPTNAME_LS', u'CNT_MGR_ID_AND_ROLE_TITLE_LS', u'CNT_MGR_ID_AND_ROLE_FAMILY_DESC_LS', u'CNT_MGR_ID_AND_ROLE_FAMILY_LS', u'CNT_MGR_ID_AND_ROLE_ROLLUP_1_LS', u'CNT_MGR_ID_AND_ROLE_ROLLUP_2_LS', u'CNT_ROLE_DEPTNAME_AND_ROLE_TITLE_LS', u'CNT_ROLE_DEPTNAME_AND_ROLE_FAMILY_DESC_LS', u'CNT_ROLE_DEPTNAME_AND_ROLE_FAMILY_LS', u'CNT_ROLE_DEPTNAME_AND_ROLE_ROLLUP_1_LS', u'CNT_ROLE_DEPTNAME_AND_ROLE_ROLLUP_2_LS', u'CNT_ROLE_TITLE_AND_ROLE_FAMILY_DESC_LS', u'CNT_ROLE_TITLE_AND_ROLE_ROLLUP_1_LS', u'CNT_ROLE_TITLE_AND_ROLE_ROLLUP_2_LS', u'CNT_ROLE_FAMILY_DESC_AND_ROLE_FAMILY_LS', u'CNT_ROLE_FAMILY_DESC_AND_ROLE_ROLLUP_1_LS', u'CNT_ROLE_FAMILY_DESC_AND_ROLE_ROLLUP_2_LS', u'CNT_ROLE_FAMILY_AND_ROLE_ROLLUP_1_LS', u'CNT_ROLE_FAMILY_AND_ROLE_ROLLUP_2_LS', u'CNT_ROLE_ROLLUP_1_AND_ROLE_ROLLUP_2_LS']\n",
      "(32769, 27)\n"
     ]
    }
   ],
   "source": [
    "reload(myclassify)\n",
    "\n",
    "# count of appearance of \n",
    "ORIG_TUPLE_CNT_LS_FSET_FILE = './cache/otc_ls_fset.pickle'\n",
    "class OrigTupleCntLSFeatureSet(MyFeatureSet):\n",
    "    def generate_feature_set(self, file_path = None):\n",
    "        orig_tuple_fset = OrigTupleFeatureSet()\n",
    "        orig_tuple_fset.load_feature_set(ORIG_TUPLE_FSET_FILE)\n",
    "        n_otf = len(orig_tuple_fset.fname_list)\n",
    "        n_train = orig_tuple_fset.Xtrain.shape[0]\n",
    "        n_test = orig_tuple_fset.Xtest.shape[0]\n",
    "        self.Xtrain = np.zeros((n_train, n_otf), float)\n",
    "        self.Xtest = np.zeros((n_test, n_otf), float)\n",
    "        for i in xrange(n_otf):\n",
    "            self.Xtrain[:, i], self.Xtest[:, i] = \\\n",
    "                count_table.fset_one_degree_counts(orig_tuple_fset, i, COUNT_TABLE_FILE)\n",
    "        myclassify.np_numeric_transform(self.Xtrain, self.Xtest, [], 'log', True)\n",
    "        self.fname_list = [u'CNT_'+fname+u'_LS' for fname in orig_tuple_fset.fname_list]\n",
    "        self.find_list = range(len(self.fname_list)+1)\n",
    "        \n",
    "        if file_path:\n",
    "            self.save_feature_set(file_path)\n",
    "        \n",
    "otc_ls_fset = OrigTupleCntLSFeatureSet()\n",
    "%time otc_ls_fset.generate_feature_set(ORIG_TUPLE_CNT_LS_FSET_FILE)\n",
    "print otc_ls_fset.fname_list"
   ]
  },
  {
   "cell_type": "code",
   "execution_count": 51,
   "metadata": {
    "collapsed": false
   },
   "outputs": [
    {
     "name": "stdout",
     "output_type": "stream",
     "text": [
      "CPU times: user 2.12 s, sys: 24.1 ms, total: 2.14 s\n",
      "Wall time: 2.13 s\n",
      "[u'RSRC_PER_MGR_ID_LS', u'RSRC_PER_ROLE_DEPTNAME_LS', u'RSRC_PER_ROLE_TITLE_LS', u'RSRC_PER_ROLE_FAMILY_DESC_LS', u'RSRC_PER_ROLE_FAMILY_LS', u'RSRC_PER_ROLE_ROLLUP_1_LS', u'RSRC_PER_ROLE_ROLLUP_2_LS']\n",
      "CPU times: user 1.49 s, sys: 4.01 ms, total: 1.49 s\n",
      "Wall time: 1.49 s\n",
      "[u'RSRC_NUM_MGR_ID_LS', u'RSRC_NUM_ROLE_DEPTNAME_LS', u'RSRC_NUM_ROLE_TITLE_LS', u'RSRC_NUM_ROLE_FAMILY_DESC_LS', u'RSRC_NUM_ROLE_FAMILY_LS', u'RSRC_NUM_ROLE_ROLLUP_1_LS', u'RSRC_NUM_ROLE_ROLLUP_2_LS']\n"
     ]
    }
   ],
   "source": [
    "reload(myclassify)\n",
    "\n",
    "# orig_fset version of resource counts\n",
    "ORSRC_PER_LS_FSET_FILE = './cache/orsrcp_ls_fset.pickle'\n",
    "class ORsrcPerLSFeatureSet(MyFeatureSet):\n",
    "    def generate_feature_set(self, file_path = None):\n",
    "        orig_fset = OrigFeatureSet()\n",
    "        orig_fset.load_feature_set(ORIG_FSET_FILE)\n",
    "        n_of = len(orig_fset.fname_list)\n",
    "        n_train = orig_fset.Xtrain.shape[0]\n",
    "        n_test = orig_fset.Xtest.shape[0]\n",
    "        self.Xtrain = np.zeros((n_train, n_of-1), float)\n",
    "        self.Xtest = np.zeros((n_test, n_of-1), float)\n",
    "        for i in xrange(1, n_of):\n",
    "            self.Xtrain[:, i-1], self.Xtest[:, i-1] = \\\n",
    "                count_table.fset_two_degree_counts(orig_fset, i, 0, 'per', COUNT_TABLE_FILE)\n",
    "        myclassify.np_numeric_transform(self.Xtrain, self.Xtest, [], 'log', True)\n",
    "        self.fname_list = [u'RSRC_PER_'+fname+u'_LS' for fname in orig_fset.fname_list[1:]]\n",
    "        self.find_list = range(len(self.fname_list)+1)\n",
    "        \n",
    "        if file_path:\n",
    "            self.save_feature_set(file_path)\n",
    "        \n",
    "orsrcp_ls_fset = ORsrcPerLSFeatureSet()\n",
    "%time orsrcp_ls_fset.generate_feature_set(ORSRC_PER_LS_FSET_FILE)\n",
    "print orsrcp_ls_fset.fname_list\n",
    "\n",
    "ORSRC_NUM_LS_FSET_FILE = './cache/orsrcn_ls_fset.pickle'\n",
    "class ORsrcNumLSFeatureSet(MyFeatureSet):\n",
    "    def generate_feature_set(self, file_path = None):\n",
    "        orig_fset = OrigFeatureSet()\n",
    "        orig_fset.load_feature_set(ORIG_FSET_FILE)\n",
    "        n_of = len(orig_fset.fname_list)\n",
    "        n_train = orig_fset.Xtrain.shape[0]\n",
    "        n_test = orig_fset.Xtest.shape[0]\n",
    "        self.Xtrain = np.zeros((n_train, n_of-1), float)\n",
    "        self.Xtest = np.zeros((n_test, n_of-1), float)\n",
    "        for i in xrange(1, n_of):\n",
    "            self.Xtrain[:, i-1], self.Xtest[:, i-1] = \\\n",
    "                count_table.fset_two_degree_counts(orig_fset, i, 0, 'num', COUNT_TABLE_FILE)\n",
    "        myclassify.np_numeric_transform(self.Xtrain, self.Xtest, [], 'log', True)\n",
    "        self.fname_list = [u'RSRC_NUM_'+fname+u'_LS' for fname in orig_fset.fname_list[1:]]\n",
    "        self.find_list = range(len(self.fname_list)+1)\n",
    "        \n",
    "        if file_path:\n",
    "            self.save_feature_set(file_path)\n",
    "        \n",
    "orsrcn_ls_fset = ORsrcNumLSFeatureSet()\n",
    "%time orsrcn_ls_fset.generate_feature_set(ORSRC_NUM_LS_FSET_FILE)\n",
    "print orsrcn_ls_fset.fname_list"
   ]
  },
  {
   "cell_type": "code",
   "execution_count": 52,
   "metadata": {
    "collapsed": false
   },
   "outputs": [
    {
     "name": "stdout",
     "output_type": "stream",
     "text": [
      "CPU times: user 1.38 s, sys: 4.02 ms, total: 1.38 s\n",
      "Wall time: 1.38 s\n",
      "[u'MGR_UNUM_ROLE_DEPTNAME_LS', u'MGR_UNUM_ROLE_TITLE_LS', u'MGR_UNUM_ROLE_FAMILY_DESC_LS', u'MGR_UNUM_ROLE_FAMILY_LS', u'MGR_UNUM_ROLE_ROLLUP_1_LS', u'MGR_UNUM_ROLE_ROLLUP_2_LS']\n"
     ]
    }
   ],
   "source": [
    "reload(myclassify)\n",
    "\n",
    "# number of other part used by certain mgr\n",
    "OMGR_UNUM_LS_FSET_FILE = './cache/omgrun_ls_fset.pickle'\n",
    "class OMgrUNumLSFeatureSet(MyFeatureSet):\n",
    "    def generate_feature_set(self, file_path = None):\n",
    "        orig_fset = OrigFeatureSet()\n",
    "        orig_fset.load_feature_set(ORIG_FSET_FILE)\n",
    "        n_of = len(orig_fset.fname_list)\n",
    "        n_train = orig_fset.Xtrain.shape[0]\n",
    "        n_test = orig_fset.Xtest.shape[0]\n",
    "        self.Xtrain = np.zeros((n_train, n_of-2), float)\n",
    "        self.Xtest = np.zeros((n_test, n_of-2), float)\n",
    "        for i in xrange(2, n_of):\n",
    "            self.Xtrain[:, i-2], self.Xtest[:, i-2] = \\\n",
    "                count_table.fset_two_degree_counts(orig_fset, 1, i, 'num', COUNT_TABLE_FILE)\n",
    "            self.fname_list.append(u'MGR_UNUM_'+orig_fset.fname_list[i]+u'_LS')\n",
    "        myclassify.np_numeric_transform(self.Xtrain, self.Xtest, [], 'log', True)\n",
    "        self.find_list = range(len(self.fname_list)+1)\n",
    "        \n",
    "        if file_path:\n",
    "            self.save_feature_set(file_path)\n",
    "        \n",
    "omgrun_ls_fset = OMgrUNumLSFeatureSet()\n",
    "# print omgrun_ls_fset._file_path\n",
    "%time omgrun_ls_fset.generate_feature_set(OMGR_UNUM_LS_FSET_FILE)\n",
    "print omgrun_ls_fset.fname_list"
   ]
  },
  {
   "cell_type": "code",
   "execution_count": 53,
   "metadata": {
    "collapsed": false
   },
   "outputs": [
    {
     "name": "stdout",
     "output_type": "stream",
     "text": [
      "CPU times: user 94 ms, sys: 264 ms, total: 358 ms\n",
      "Wall time: 912 ms\n",
      "[u'CR_RESOURCE', u'CR_MGR_ID', u'CR_ROLE_DEPTNAME', u'CR_ROLE_TITLE', u'CR_ROLE_FAMILY_DESC', u'CR_ROLE_FAMILY', u'CR_RESOURCE_AND_MGR_ID', u'CR_RESOURCE_AND_ROLE_DEPTNAME', u'CR_RESOURCE_AND_ROLE_TITLE', u'CR_RESOURCE_AND_ROLE_FAMILY_DESC', u'CR_RESOURCE_AND_ROLE_FAMILY', u'CR_RESOURCE_AND_ROLE_ROLLUP_1', u'CR_RESOURCE_AND_ROLE_ROLLUP_2', u'CR_MGR_ID_AND_ROLE_DEPTNAME', u'CR_MGR_ID_AND_ROLE_TITLE', u'CR_MGR_ID_AND_ROLE_FAMILY_DESC', u'CR_MGR_ID_AND_ROLE_FAMILY', u'CR_MGR_ID_AND_ROLE_ROLLUP_1', u'CR_MGR_ID_AND_ROLE_ROLLUP_2', u'CR_ROLE_DEPTNAME_AND_ROLE_TITLE', u'CR_ROLE_DEPTNAME_AND_ROLE_FAMILY_DESC', u'CR_ROLE_DEPTNAME_AND_ROLE_FAMILY', u'CR_ROLE_DEPTNAME_AND_ROLE_ROLLUP_1', u'CR_ROLE_DEPTNAME_AND_ROLE_ROLLUP_2', u'CR_ROLE_TITLE_AND_ROLE_FAMILY_DESC', u'CR_ROLE_TITLE_AND_ROLE_ROLLUP_1', u'CR_ROLE_TITLE_AND_ROLE_ROLLUP_2', u'CR_ROLE_FAMILY_DESC_AND_ROLE_FAMILY', u'CR_ROLE_FAMILY_DESC_AND_ROLE_ROLLUP_1', u'CR_ROLE_FAMILY_DESC_AND_ROLE_ROLLUP_2', u'CR_ROLE_FAMILY_AND_ROLE_ROLLUP_1', u'CR_ROLE_FAMILY_AND_ROLE_ROLLUP_2', u'CR_ROLE_ROLLUP_1_AND_ROLE_ROLLUP_2', u'CNT_RESOURCE_LS', u'CNT_MGR_ID_LS', u'CNT_ROLE_DEPTNAME_LS', u'CNT_ROLE_TITLE_LS', u'CNT_ROLE_FAMILY_DESC_LS', u'CNT_ROLE_FAMILY_LS', u'CNT_ROLE_ROLLUP_1_LS', u'CNT_ROLE_ROLLUP_2_LS', u'CNT_RESOURCE_AND_MGR_ID_LS', u'CNT_RESOURCE_AND_ROLE_DEPTNAME_LS', u'CNT_RESOURCE_AND_ROLE_TITLE_LS', u'CNT_RESOURCE_AND_ROLE_FAMILY_DESC_LS', u'CNT_RESOURCE_AND_ROLE_FAMILY_LS', u'CNT_RESOURCE_AND_ROLE_ROLLUP_1_LS', u'CNT_RESOURCE_AND_ROLE_ROLLUP_2_LS', u'CNT_MGR_ID_AND_ROLE_DEPTNAME_LS', u'CNT_MGR_ID_AND_ROLE_TITLE_LS', u'CNT_MGR_ID_AND_ROLE_FAMILY_DESC_LS', u'CNT_MGR_ID_AND_ROLE_FAMILY_LS', u'CNT_MGR_ID_AND_ROLE_ROLLUP_1_LS', u'CNT_MGR_ID_AND_ROLE_ROLLUP_2_LS', u'CNT_ROLE_DEPTNAME_AND_ROLE_TITLE_LS', u'CNT_ROLE_DEPTNAME_AND_ROLE_FAMILY_DESC_LS', u'CNT_ROLE_DEPTNAME_AND_ROLE_FAMILY_LS', u'CNT_ROLE_DEPTNAME_AND_ROLE_ROLLUP_1_LS', u'CNT_ROLE_DEPTNAME_AND_ROLE_ROLLUP_2_LS', u'CNT_ROLE_TITLE_AND_ROLE_FAMILY_DESC_LS', u'CNT_ROLE_TITLE_AND_ROLE_ROLLUP_1_LS', u'CNT_ROLE_TITLE_AND_ROLE_ROLLUP_2_LS', u'CNT_ROLE_FAMILY_DESC_AND_ROLE_FAMILY_LS', u'CNT_ROLE_FAMILY_DESC_AND_ROLE_ROLLUP_1_LS', u'CNT_ROLE_FAMILY_DESC_AND_ROLE_ROLLUP_2_LS', u'CNT_ROLE_FAMILY_AND_ROLE_ROLLUP_1_LS', u'CNT_ROLE_FAMILY_AND_ROLE_ROLLUP_2_LS', u'CNT_ROLE_ROLLUP_1_AND_ROLE_ROLLUP_2_LS', u'RSRC_NUM_MGR_ID_LS', u'RSRC_NUM_ROLE_DEPTNAME_LS', u'RSRC_NUM_ROLE_TITLE_LS', u'RSRC_NUM_ROLE_FAMILY_DESC_LS', u'RSRC_NUM_ROLE_FAMILY_LS', u'RSRC_NUM_ROLE_ROLLUP_1_LS', u'RSRC_NUM_ROLE_ROLLUP_2_LS', u'RSRC_PER_MGR_ID_LS', u'RSRC_PER_ROLE_DEPTNAME_LS', u'RSRC_PER_ROLE_TITLE_LS', u'RSRC_PER_ROLE_FAMILY_DESC_LS', u'RSRC_PER_ROLE_FAMILY_LS', u'RSRC_PER_ROLE_ROLLUP_1_LS', u'RSRC_PER_ROLE_ROLLUP_2_LS', u'MGR_UNUM_ROLE_DEPTNAME_LS', u'MGR_UNUM_ROLE_TITLE_LS', u'MGR_UNUM_ROLE_FAMILY_DESC_LS', u'MGR_UNUM_ROLE_FAMILY_LS', u'MGR_UNUM_ROLE_ROLLUP_1_LS', u'MGR_UNUM_ROLE_ROLLUP_2_LS']\n"
     ]
    }
   ],
   "source": [
    "reload(myclassify)\n",
    "\n",
    "CR_ORIGR_TCR_LS_FSET_FILE = './cache/crorigr_tcr_ls_fset.pickle'\n",
    "class CROrigRTCRLSFeatureSet(MyFeatureSet):\n",
    "    def generate_feature_set(self, file_path = None):\n",
    "        crorigr_fset = CROrigRFeatureSet()\n",
    "        crorigr_fset.load_feature_set(CR_ORIGR_FSET_FILE)\n",
    "        crorig_tuple_fset = CROrigTupleFeatureSet()\n",
    "        crorig_tuple_fset.load_feature_set(CR_ORIG_TUPLE_FSET_FILE)\n",
    "        origc_ls_fset = OrigCntLSFeatureSet()\n",
    "        origc_ls_fset.load_feature_set(ORIG_CNT_LS_FSET_FILE)\n",
    "        otc_ls_fset = OrigTupleCntLSFeatureSet()\n",
    "        otc_ls_fset.load_feature_set(ORIG_TUPLE_CNT_LS_FSET_FILE)\n",
    "        orsrcn_ls_fset = ORsrcNumLSFeatureSet()\n",
    "        orsrcn_ls_fset.load_feature_set(ORSRC_NUM_LS_FSET_FILE)\n",
    "        orsrcp_ls_fset = ORsrcPerLSFeatureSet()\n",
    "        orsrcp_ls_fset.load_feature_set(ORSRC_PER_LS_FSET_FILE)\n",
    "        omgrun_ls_fset = OMgrUNumLSFeatureSet()\n",
    "        omgrun_ls_fset.load_feature_set(OMGR_UNUM_LS_FSET_FILE)\n",
    "#         odeptun_ls_fset = ODeptUNumLSFeatureSet()\n",
    "#         odeptun_ls_fset.load_feature_set(ODEPT_UNUM_LS_FSET_FILE)\n",
    "#         oroleun_ls_fset = ORoleUNumLSFeatureSet()\n",
    "#         oroleun_ls_fset.load_feature_set(OROLE_UNUM_LS_FSET_FILE)\n",
    "        \n",
    "        fset_list = [crorigr_fset, crorig_tuple_fset, origc_ls_fset, otc_ls_fset, orsrcn_ls_fset, \n",
    "                     orsrcp_ls_fset, omgrun_ls_fset] #, odeptun_ls_fset, oroleun_ls_fset]\n",
    "        \n",
    "        self.fname_list, self.find_list, self.Xtrain, self.Xtest = \\\n",
    "            myclassify.concat_feature_set(fset_list)\n",
    "        \n",
    "        if file_path:\n",
    "            self.save_feature_set(file_path)\n",
    "\n",
    "crorigr_tcr_ls_fset = CROrigRTCRLSFeatureSet()\n",
    "%time crorigr_tcr_ls_fset.generate_feature_set(CR_ORIGR_TCR_LS_FSET_FILE)\n",
    "print crorigr_tcr_ls_fset.fname_list"
   ]
  },
  {
   "cell_type": "code",
   "execution_count": 55,
   "metadata": {
    "collapsed": false
   },
   "outputs": [
    {
     "name": "stdout",
     "output_type": "stream",
     "text": [
      "CPU times: user 851 ms, sys: 573 ms, total: 1.42 s\n",
      "Wall time: 2.73 s\n",
      "[u'OH_CR_RESOURCE', u'OH_CR_MGR_ID', u'OH_CR_ROLE_DEPTNAME', u'OH_CR_ROLE_TITLE', u'OH_CR_ROLE_FAMILY_DESC', u'OH_CR_ROLE_FAMILY', u'OH_CR_RESOURCE_AND_MGR_ID', u'OH_CR_RESOURCE_AND_ROLE_DEPTNAME', u'OH_CR_RESOURCE_AND_ROLE_TITLE', u'OH_CR_RESOURCE_AND_ROLE_FAMILY_DESC', u'OH_CR_RESOURCE_AND_ROLE_FAMILY', u'OH_CR_RESOURCE_AND_ROLE_ROLLUP_1', u'OH_CR_RESOURCE_AND_ROLE_ROLLUP_2', u'OH_CR_MGR_ID_AND_ROLE_DEPTNAME', u'OH_CR_MGR_ID_AND_ROLE_TITLE', u'OH_CR_MGR_ID_AND_ROLE_FAMILY_DESC', u'OH_CR_MGR_ID_AND_ROLE_FAMILY', u'OH_CR_MGR_ID_AND_ROLE_ROLLUP_1', u'OH_CR_MGR_ID_AND_ROLE_ROLLUP_2', u'OH_CR_ROLE_DEPTNAME_AND_ROLE_TITLE', u'OH_CR_ROLE_DEPTNAME_AND_ROLE_FAMILY_DESC', u'OH_CR_ROLE_DEPTNAME_AND_ROLE_FAMILY', u'OH_CR_ROLE_DEPTNAME_AND_ROLE_ROLLUP_1', u'OH_CR_ROLE_DEPTNAME_AND_ROLE_ROLLUP_2', u'OH_CR_ROLE_TITLE_AND_ROLE_FAMILY_DESC', u'OH_CR_ROLE_TITLE_AND_ROLE_ROLLUP_1', u'OH_CR_ROLE_TITLE_AND_ROLE_ROLLUP_2', u'OH_CR_ROLE_FAMILY_DESC_AND_ROLE_FAMILY', u'OH_CR_ROLE_FAMILY_DESC_AND_ROLE_ROLLUP_1', u'OH_CR_ROLE_FAMILY_DESC_AND_ROLE_ROLLUP_2', u'OH_CR_ROLE_FAMILY_AND_ROLE_ROLLUP_1', u'OH_CR_ROLE_FAMILY_AND_ROLE_ROLLUP_2', u'OH_CR_ROLE_ROLLUP_1_AND_ROLE_ROLLUP_2', u'CNT_RESOURCE_LS', u'CNT_MGR_ID_LS', u'CNT_ROLE_DEPTNAME_LS', u'CNT_ROLE_TITLE_LS', u'CNT_ROLE_FAMILY_DESC_LS', u'CNT_ROLE_FAMILY_LS', u'CNT_ROLE_ROLLUP_1_LS', u'CNT_ROLE_ROLLUP_2_LS', u'CNT_RESOURCE_AND_MGR_ID_LS', u'CNT_RESOURCE_AND_ROLE_DEPTNAME_LS', u'CNT_RESOURCE_AND_ROLE_TITLE_LS', u'CNT_RESOURCE_AND_ROLE_FAMILY_DESC_LS', u'CNT_RESOURCE_AND_ROLE_FAMILY_LS', u'CNT_RESOURCE_AND_ROLE_ROLLUP_1_LS', u'CNT_RESOURCE_AND_ROLE_ROLLUP_2_LS', u'CNT_MGR_ID_AND_ROLE_DEPTNAME_LS', u'CNT_MGR_ID_AND_ROLE_TITLE_LS', u'CNT_MGR_ID_AND_ROLE_FAMILY_DESC_LS', u'CNT_MGR_ID_AND_ROLE_FAMILY_LS', u'CNT_MGR_ID_AND_ROLE_ROLLUP_1_LS', u'CNT_MGR_ID_AND_ROLE_ROLLUP_2_LS', u'CNT_ROLE_DEPTNAME_AND_ROLE_TITLE_LS', u'CNT_ROLE_DEPTNAME_AND_ROLE_FAMILY_DESC_LS', u'CNT_ROLE_DEPTNAME_AND_ROLE_FAMILY_LS', u'CNT_ROLE_DEPTNAME_AND_ROLE_ROLLUP_1_LS', u'CNT_ROLE_DEPTNAME_AND_ROLE_ROLLUP_2_LS', u'CNT_ROLE_TITLE_AND_ROLE_FAMILY_DESC_LS', u'CNT_ROLE_TITLE_AND_ROLE_ROLLUP_1_LS', u'CNT_ROLE_TITLE_AND_ROLE_ROLLUP_2_LS', u'CNT_ROLE_FAMILY_DESC_AND_ROLE_FAMILY_LS', u'CNT_ROLE_FAMILY_DESC_AND_ROLE_ROLLUP_1_LS', u'CNT_ROLE_FAMILY_DESC_AND_ROLE_ROLLUP_2_LS', u'CNT_ROLE_FAMILY_AND_ROLE_ROLLUP_1_LS', u'CNT_ROLE_FAMILY_AND_ROLE_ROLLUP_2_LS', u'CNT_ROLE_ROLLUP_1_AND_ROLE_ROLLUP_2_LS', u'RSRC_NUM_MGR_ID_LS', u'RSRC_NUM_ROLE_DEPTNAME_LS', u'RSRC_NUM_ROLE_TITLE_LS', u'RSRC_NUM_ROLE_FAMILY_DESC_LS', u'RSRC_NUM_ROLE_FAMILY_LS', u'RSRC_NUM_ROLE_ROLLUP_1_LS', u'RSRC_NUM_ROLE_ROLLUP_2_LS', u'RSRC_PER_MGR_ID_LS', u'RSRC_PER_ROLE_DEPTNAME_LS', u'RSRC_PER_ROLE_TITLE_LS', u'RSRC_PER_ROLE_FAMILY_DESC_LS', u'RSRC_PER_ROLE_FAMILY_LS', u'RSRC_PER_ROLE_ROLLUP_1_LS', u'RSRC_PER_ROLE_ROLLUP_2_LS', u'MGR_UNUM_ROLE_DEPTNAME_LS', u'MGR_UNUM_ROLE_TITLE_LS', u'MGR_UNUM_ROLE_FAMILY_DESC_LS', u'MGR_UNUM_ROLE_FAMILY_LS', u'MGR_UNUM_ROLE_ROLLUP_1_LS', u'MGR_UNUM_ROLE_ROLLUP_2_LS']\n"
     ]
    }
   ],
   "source": [
    "reload(myclassify)\n",
    "\n",
    "OHCR_ORIGR_TCR_LS_FSET_FILE = './cache/ohcrorigr_tcr_ls_fset.pickle'\n",
    "class OHCROrigRTCRLSFeatureSet(MyFeatureSet):\n",
    "    def generate_feature_set(self, file_path = None):\n",
    "        ohcrorigr_fset = OHCROrigRFeatureSet()\n",
    "        ohcrorigr_fset.load_feature_set(OHCR_ORIGR_FSET_FILE)\n",
    "        ohcrorig_tuple_fset = OHCROrigTupleFeatureSet()\n",
    "        ohcrorig_tuple_fset.load_feature_set(OHCR_ORIG_TUPLE_FSET_FILE)\n",
    "        origc_ls_fset = OrigCntLSFeatureSet()\n",
    "        origc_ls_fset.load_feature_set(ORIG_CNT_LS_FSET_FILE)\n",
    "        otc_ls_fset = OrigTupleCntLSFeatureSet()\n",
    "        otc_ls_fset.load_feature_set(ORIG_TUPLE_CNT_LS_FSET_FILE)\n",
    "        orsrcn_ls_fset = ORsrcNumLSFeatureSet()\n",
    "        orsrcn_ls_fset.load_feature_set(ORSRC_NUM_LS_FSET_FILE)\n",
    "        orsrcp_ls_fset = ORsrcPerLSFeatureSet()\n",
    "        orsrcp_ls_fset.load_feature_set(ORSRC_PER_LS_FSET_FILE)\n",
    "        omgrun_ls_fset = OMgrUNumLSFeatureSet()\n",
    "        omgrun_ls_fset.load_feature_set(OMGR_UNUM_LS_FSET_FILE)\n",
    "#         odeptun_ls_fset = ODeptUNumLSFeatureSet()\n",
    "#         odeptun_ls_fset.load_feature_set(ODEPT_UNUM_LS_FSET_FILE)\n",
    "#         oroleun_ls_fset = ORoleUNumLSFeatureSet()\n",
    "#         oroleun_ls_fset.load_feature_set(OROLE_UNUM_LS_FSET_FILE)\n",
    "        \n",
    "        fset_list = [ohcrorigr_fset, ohcrorig_tuple_fset, origc_ls_fset, otc_ls_fset, orsrcn_ls_fset, \n",
    "                     orsrcp_ls_fset, omgrun_ls_fset] #, odeptun_ls_fset, oroleun_ls_fset]\n",
    "        \n",
    "        self.fname_list, self.find_list, self.Xtrain, self.Xtest = \\\n",
    "            myclassify.concat_feature_set(fset_list)\n",
    "        \n",
    "        if file_path:\n",
    "            self.save_feature_set(file_path)\n",
    "\n",
    "ohcrorigr_tcr_ls_fset = OHCROrigRTCRLSFeatureSet()\n",
    "%time ohcrorigr_tcr_ls_fset.generate_feature_set(OHCR_ORIGR_TCR_LS_FSET_FILE)\n",
    "print ohcrorigr_tcr_ls_fset.fname_list\n",
    "# print ohcrorigr_tcr_ls_fset.find_list"
   ]
  },
  {
   "cell_type": "code",
   "execution_count": 56,
   "metadata": {
    "collapsed": true
   },
   "outputs": [],
   "source": [
    "# generate ytrain and idtest\n",
    "df_train = pd.read_csv('./train.csv')\n",
    "df_test = pd.read_csv('./test.csv')\n",
    "\n",
    "ytrain = df_train[u'ACTION'].values\n",
    "idtest = df_test[u'id'].values\n"
   ]
  },
  {
   "cell_type": "code",
   "execution_count": 60,
   "metadata": {
    "collapsed": false
   },
   "outputs": [],
   "source": [
    "generate xgb prediction using bcmdtree_ls_fset\n",
    "myxgb_params = {'objective': 'binary:logistic', 'subsample': .9, 'nthread': 4, 'seed': SEED, 'num_round':1000,\n",
    "                   'learning_rate': 0.03, 'n_estimators': 1000, 'colsample_bylevel':0.85, \n",
    "                   'max_depth': 20,'gamma': 0.6, 'colsample_bytree':0.85, 'min_child_weight':0.,\n",
    "                      'lambda': 0.8, 'alpha': 0}\n",
    "\n",
    "myxgb = myclassify.MyXGBoost(myxgb_params)\n",
    "\n",
    "myxgb.fit(crorigr_tcr_ls_fset.Xtrain, ytrain)\n",
    "\n",
    "myxgb_ypred = myxgb.predict_proba(crorigr_tcr_ls_fset.Xtest, {'ntree_limit':800})\n",
    "\n",
    "submission = pd.DataFrame({\"id\":idtest, \"ACTION\":myxgb_ypred})\n",
    "submission = submission[['id', 'ACTION']]\n",
    "submission.to_csv(\"xgb_submission.csv\", index=False)"
   ]
  },
  {
   "cell_type": "code",
   "execution_count": 58,
   "metadata": {
    "collapsed": true
   },
   "outputs": [],
   "source": [
    "# generate logistic regression prediction using ohbcmdtree_ls_fset\n",
    "mylr_params = {'C': 2., 'n_jobs':-1, 'penalty':'l2', \n",
    "               'solver':'liblinear', 'max_iter':1000 , 'tol':1e-10, 'random_state':SEED, 'verbose':0}\n",
    "\n",
    "mylr = myclassify.MyLogisticReg(mylr_params)\n",
    "\n",
    "mylr.fit(ohcrorigr_tcr_ls_fset.Xtrain, ytrain)\n",
    "\n",
    "mylr_ypred = mylr.predict_proba(ohcrorigr_tcr_ls_fset.Xtest)\n",
    "\n",
    "submission = pd.DataFrame({\"id\":idtest, \"ACTION\":mylr_ypred})\n",
    "submission = submission[['id', 'ACTION']]\n",
    "submission.to_csv(\"lr_submission.csv\", index=False)"
   ]
  },
  {
   "cell_type": "code",
   "execution_count": null,
   "metadata": {
    "collapsed": true
   },
   "outputs": [],
   "source": []
  }
 ],
 "metadata": {
  "kernelspec": {
   "display_name": "Python 2",
   "language": "python",
   "name": "python2"
  },
  "language_info": {
   "codemirror_mode": {
    "name": "ipython",
    "version": 2
   },
   "file_extension": ".py",
   "mimetype": "text/x-python",
   "name": "python",
   "nbconvert_exporter": "python",
   "pygments_lexer": "ipython2",
   "version": "2.7.11"
  }
 },
 "nbformat": 4,
 "nbformat_minor": 0
}
